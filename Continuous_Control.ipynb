{
 "cells": [
  {
   "cell_type": "markdown",
   "metadata": {},
   "source": [
    "# Continuous Control\n",
    "\n",
    "---\n",
    "\n",
    "This notebook is a solution to the second project of the [Deep Reinforcement Learning Nanodegree](https://www.udacity.com/course/deep-reinforcement-learning-nanodegree--nd893) program where the task is to learn top operate a robotic arm using the Reacher Unity environment.\n",
    "\n",
    "### 1. Start the Environment\n",
    "\n",
    "We begin by importing the necessary packages.  If the code cell below returns an error, please revisit the project instructions to double-check that you have installed [Unity ML-Agents](https://github.com/Unity-Technologies/ml-agents/blob/master/docs/Installation.md) and [NumPy](http://www.numpy.org/)."
   ]
  },
  {
   "cell_type": "code",
   "execution_count": 1,
   "metadata": {},
   "outputs": [],
   "source": [
    "from unityagents import UnityEnvironment\n",
    "import numpy as np\n",
    "import torch\n",
    "import matplotlib.pyplot as plt\n",
    "%matplotlib inline\n",
    "from collections import deque\n",
    "import time\n",
    "\n"
   ]
  },
  {
   "cell_type": "markdown",
   "metadata": {},
   "source": [
    "Next, we will start the environment!  **_Before running the code cell below_**, change the `file_name` parameter to match the location of the Unity environment that you downloaded.\n",
    "\n",
    "- **Mac**: `\"path/to/Reacher.app\"`\n",
    "- **Windows** (x86): `\"path/to/Reacher_Windows_x86/Reacher.exe\"`\n",
    "- **Windows** (x86_64): `\"path/to/Reacher_Windows_x86_64/Reacher.exe\"`\n",
    "- **Linux** (x86): `\"path/to/Reacher_Linux/Reacher.x86\"`\n",
    "- **Linux** (x86_64): `\"path/to/Reacher_Linux/Reacher.x86_64\"`\n",
    "- **Linux** (x86, headless): `\"path/to/Reacher_Linux_NoVis/Reacher.x86\"`\n",
    "- **Linux** (x86_64, headless): `\"path/to/Reacher_Linux_NoVis/Reacher.x86_64\"`\n",
    "\n",
    "For instance, if you are using a Mac, then you downloaded `Reacher.app`.  If this file is in the same folder as the notebook, then the line below should appear as follows:\n",
    "```\n",
    "env = UnityEnvironment(file_name=\"Reacher.app\")\n",
    "```"
   ]
  },
  {
   "cell_type": "code",
   "execution_count": 2,
   "metadata": {
    "scrolled": true
   },
   "outputs": [
    {
     "name": "stderr",
     "output_type": "stream",
     "text": [
      "INFO:unityagents:\n",
      "'Academy' started successfully!\n",
      "Unity Academy name: Academy\n",
      "        Number of Brains: 1\n",
      "        Number of External Brains : 1\n",
      "        Lesson number : 0\n",
      "        Reset Parameters :\n",
      "\t\tgoal_speed -> 1.0\n",
      "\t\tgoal_size -> 5.0\n",
      "Unity brain name: ReacherBrain\n",
      "        Number of Visual Observations (per agent): 0\n",
      "        Vector Observation space type: continuous\n",
      "        Vector Observation space size (per agent): 33\n",
      "        Number of stacked Vector Observation: 1\n",
      "        Vector Action space type: continuous\n",
      "        Vector Action space size (per agent): 4\n",
      "        Vector Action descriptions: , , , \n"
     ]
    }
   ],
   "source": [
    "#env = UnityEnvironment(file_name=\"/home/marliaae/src/deep-reinforcement-learning/p2_mcliaaen/Reacher_Linux/Reacher.x86_64\")\n",
    "env = UnityEnvironment(file_name=\"Reacher_NoVis_20/Reacher_Linux_NoVis/Reacher.x86\")"
   ]
  },
  {
   "cell_type": "markdown",
   "metadata": {},
   "source": [
    "Environments contain **_brains_** which are responsible for deciding the actions of their associated agents. Here we check for the first brain available, and set it as the default brain we will be controlling from Python."
   ]
  },
  {
   "cell_type": "code",
   "execution_count": 3,
   "metadata": {},
   "outputs": [],
   "source": [
    "# get the default brain\n",
    "brain_name = env.brain_names[0]\n",
    "brain = env.brains[brain_name]"
   ]
  },
  {
   "cell_type": "markdown",
   "metadata": {},
   "source": [
    "### 2. Examine the State and Action Spaces\n",
    "\n",
    "In this environment, a double-jointed arm can move to target locations. A reward of `+0.1` is provided for each step that the agent's hand is in the goal location. Thus, the goal of your agent is to maintain its position at the target location for as many time steps as possible.\n",
    "\n",
    "The observation space consists of `33` variables corresponding to position, rotation, velocity, and angular velocities of the arm.  Each action is a vector with four numbers, corresponding to torque applicable to two joints.  Every entry in the action vector must be a number between `-1` and `1`.\n",
    "\n",
    "Run the code cell below to print some information about the environment."
   ]
  },
  {
   "cell_type": "code",
   "execution_count": 4,
   "metadata": {},
   "outputs": [
    {
     "name": "stdout",
     "output_type": "stream",
     "text": [
      "Number of agents: 20\n",
      "Size of each action: 4\n",
      "There are 20 agents. Each observes a state with length: 33\n",
      "The state for the first agent looks like: [ 0.00000000e+00 -4.00000000e+00  0.00000000e+00  1.00000000e+00\n",
      " -0.00000000e+00 -0.00000000e+00 -4.37113883e-08  0.00000000e+00\n",
      "  0.00000000e+00  0.00000000e+00  0.00000000e+00  0.00000000e+00\n",
      "  0.00000000e+00  0.00000000e+00 -1.00000000e+01  0.00000000e+00\n",
      "  1.00000000e+00 -0.00000000e+00 -0.00000000e+00 -4.37113883e-08\n",
      "  0.00000000e+00  0.00000000e+00  0.00000000e+00  0.00000000e+00\n",
      "  0.00000000e+00  0.00000000e+00  5.75471878e+00 -1.00000000e+00\n",
      "  5.55726624e+00  0.00000000e+00  1.00000000e+00  0.00000000e+00\n",
      " -1.68164849e-01]\n"
     ]
    }
   ],
   "source": [
    "# reset the environment\n",
    "env_info = env.reset(train_mode=True)[brain_name]\n",
    "\n",
    "# number of agents\n",
    "num_agents = len(env_info.agents)\n",
    "print('Number of agents:', num_agents)\n",
    "\n",
    "# size of each action\n",
    "action_size = brain.vector_action_space_size\n",
    "print('Size of each action:', action_size)\n",
    "\n",
    "# examine the state space \n",
    "states = env_info.vector_observations\n",
    "state_size = states.shape[1]\n",
    "print('There are {} agents. Each observes a state with length: {}'.format(states.shape[0], state_size))\n",
    "print('The state for the first agent looks like:', states[0])"
   ]
  },
  {
   "cell_type": "markdown",
   "metadata": {},
   "source": [
    "When finished, you can close the environment."
   ]
  },
  {
   "cell_type": "markdown",
   "metadata": {},
   "source": [
    "### 4. Implementing a smart continous control agent using DDPG\n",
    "\n",
    "Now it's your turn to train your own agent to solve the environment!  When training the environment, set `train_mode=True`, so that the line for resetting the environment looks like the following:\n",
    "```python\n",
    "env_info = env.reset(train_mode=True)[brain_name]\n",
    "```"
   ]
  },
  {
   "cell_type": "code",
   "execution_count": 8,
   "metadata": {},
   "outputs": [],
   "source": [
    "from ddpg_agent import Agent\n",
    "\n",
    "random_seed = 7\n",
    "train_mode = True\n",
    "\n",
    "agent = Agent(state_size=state_size, action_size=action_size, random_seed=2)\n",
    "n_episodes = 1000\n",
    "max_t = 1000\n",
    "print_every = 5\n",
    "learn_every = 20\n",
    "goal_score = 30\n",
    "num_learn = 10"
   ]
  },
  {
   "cell_type": "code",
   "execution_count": 9,
   "metadata": {
    "scrolled": true
   },
   "outputs": [
    {
     "name": "stdout",
     "output_type": "stream",
     "text": [
      "Episode 5\tTotal Average Score: 0.75\tMean: 0.73\tMin: 0.07\tMax: 2.48\tDuration: 10.49\n",
      "Episode 10\tTotal Average Score: 0.90\tMean: 0.99\tMin: 0.24\tMax: 2.22\tDuration: 10.78\n",
      "Episode 15\tTotal Average Score: 1.08\tMean: 1.74\tMin: 0.62\tMax: 4.41\tDuration: 11.98\n",
      "Episode 20\tTotal Average Score: 1.20\tMean: 1.66\tMin: 0.57\tMax: 3.22\tDuration: 12.33\n",
      "Episode 25\tTotal Average Score: 1.63\tMean: 4.44\tMin: 2.48\tMax: 9.41\tDuration: 13.41\n",
      "Episode 30\tTotal Average Score: 2.66\tMean: 11.23\tMin: 2.32\tMax: 26.08\tDuration: 14.14\n",
      "Episode 35\tTotal Average Score: 4.95\tMean: 22.15\tMin: 12.74\tMax: 38.11\tDuration: 14.78\n",
      "Episode 40\tTotal Average Score: 7.77\tMean: 31.64\tMin: 22.71\tMax: 37.90\tDuration: 17.20\n",
      "Episode 45\tTotal Average Score: 10.66\tMean: 33.55\tMin: 27.02\tMax: 39.28\tDuration: 16.77\n",
      "Episode 50\tTotal Average Score: 13.04\tMean: 35.59\tMin: 28.95\tMax: 38.83\tDuration: 16.86\n",
      "Episode 55\tTotal Average Score: 15.05\tMean: 36.21\tMin: 31.50\tMax: 39.23\tDuration: 17.01\n",
      "Episode 60\tTotal Average Score: 16.66\tMean: 32.53\tMin: 23.32\tMax: 37.34\tDuration: 17.02\n",
      "Episode 65\tTotal Average Score: 18.03\tMean: 34.12\tMin: 31.93\tMax: 36.70\tDuration: 17.10\n",
      "Episode 70\tTotal Average Score: 19.37\tMean: 36.65\tMin: 34.04\tMax: 39.45\tDuration: 18.15\n",
      "Episode 75\tTotal Average Score: 20.56\tMean: 38.06\tMin: 33.82\tMax: 39.52\tDuration: 17.84\n",
      "Episode 80\tTotal Average Score: 21.64\tMean: 37.53\tMin: 32.69\tMax: 39.33\tDuration: 18.99\n",
      "Episode 85\tTotal Average Score: 22.62\tMean: 38.41\tMin: 35.71\tMax: 39.61\tDuration: 18.55\n",
      "Episode 90\tTotal Average Score: 23.48\tMean: 38.72\tMin: 34.92\tMax: 39.62\tDuration: 17.50\n",
      "Episode 95\tTotal Average Score: 24.26\tMean: 38.22\tMin: 33.51\tMax: 39.63\tDuration: 17.81\n",
      "Episode 100\tTotal Average Score: 24.96\tMean: 38.08\tMin: 31.41\tMax: 39.52\tDuration: 17.71\n",
      "Episode 105\tTotal Average Score: 26.85\tMean: 38.96\tMin: 37.35\tMax: 39.66\tDuration: 19.25\n",
      "Episode 110\tTotal Average Score: 28.71\tMean: 38.74\tMin: 33.82\tMax: 39.61\tDuration: 17.27\n",
      "Problem Solved after 114 epsisodes!! Total Average score: 30.16\n"
     ]
    }
   ],
   "source": [
    "\n",
    "def ddpg(n_episodes=n_episodes, max_t=max_t, print_every=print_every, learn_every=learn_every, \n",
    "         num_learn=num_learn, goal_score=goal_score):\n",
    "    total_scores_deque = deque(maxlen=100)\n",
    "    total_scores = []\n",
    "    total_average_score = []\n",
    "    average_global = []\n",
    "    \n",
    "    for i_episode in range(1, n_episodes+1):\n",
    "        #print(\"episode\", i_episode)\n",
    "        # Reset Env and Agent\n",
    "        env_info = env.reset(train_mode=train_mode)[brain_name]       # reset the environment    \n",
    "        states = env_info.vector_observations                   # get the current state (for each agent)\n",
    "        scores = np.zeros(num_agents)                            # initialize the score (for each agent)\n",
    "        agent.reset()\n",
    "        \n",
    "        start_time = time.time()\n",
    "        \n",
    "        for t in range(max_t):\n",
    "            actions = agent.act(states)\n",
    "            \n",
    "            env_info = env.step(actions)[brain_name]            # send all actions to the environment\n",
    "            next_states = env_info.vector_observations          # get next state (for each agent)\n",
    "            rewards = env_info.rewards                          # get reward (for each agent)\n",
    "            dones = env_info.local_done                         # see if episode finished\n",
    "            \n",
    "            agent.step(states, actions, rewards, next_states, dones, t) # send actions to the agent\n",
    "            \n",
    "            scores += env_info.rewards                           # update the score (for each agent)\n",
    "            states = next_states                                # roll over states to next time step\n",
    "            \n",
    "            \n",
    "            if np.any(dones):                                   # exit loop if episode finished\n",
    "                break\n",
    "    \n",
    "        mean_score = np.mean(scores)\n",
    "        min_score = np.min(scores)\n",
    "        max_score = np.max(scores)\n",
    "        total_scores_deque.append(mean_score)\n",
    "        total_scores.append(mean_score)\n",
    "        total_average_score = np.mean(total_scores_deque)\n",
    "        average_global.append(total_average_score)\n",
    "        duration = time.time() - start_time\n",
    "        \n",
    "        \n",
    "        if i_episode % print_every == 0:\n",
    "            torch.save(agent.actor_local.state_dict(), 'checkpoint_actor.pth')\n",
    "            torch.save(agent.critic_local.state_dict(), 'checkpoint_critic.pth')\n",
    "            #print('\\rEpisode {}\\tTotal Average Score: {:.2f}'.format(i_episode, total_average_score))  \n",
    "            print('\\rEpisode {}\\tTotal Average Score: {:.2f}\\tMean: {:.2f}\\tMin: {:.2f}\\tMax: {:.2f}\\tDuration: {:.2f}'\n",
    "              .format(i_episode, total_average_score, mean_score, min_score, max_score, duration))\n",
    "            \n",
    "        if total_average_score >= goal_score and i_episode >= 100:\n",
    "            print('Problem Solved after {} epsisodes!! Total Average score: {:.2f}'.format(i_episode, total_average_score))\n",
    "            torch.save(agent.actor_local.state_dict(), 'checkpoint_actor.pth')\n",
    "            torch.save(agent.critic_local.state_dict(), 'checkpoint_critic.pth')\n",
    "            break\n",
    "    \n",
    "    return total_scores, average_global\n",
    "\n",
    "total_scores, average_global = ddpg()\n"
   ]
  },
  {
   "cell_type": "code",
   "execution_count": 11,
   "metadata": {},
   "outputs": [
    {
     "data": {
      "image/png": "[encoded data removed]",
      "text/plain": [
       "<Figure size 432x288 with 2 Axes>"
      ]
     },
     "metadata": {
      "needs_background": "light"
     },
     "output_type": "display_data"
    }
   ],
   "source": [
    "\n",
    "fig = plt.figure()\n",
    "ax = fig.add_subplot(2,1,1)\n",
    "plt.plot(np.arange(1, len(total_scores)+1), total_scores)\n",
    "plt.ylabel('Score')\n",
    "plt.xlabel('Episode #')\n",
    "\n",
    "plt.subplot(2, 1, 2)\n",
    "plt.plot(np.arange(1, len(average_global)+1), average_global)\n",
    "plt.ylabel('Average Score')\n",
    "plt.xlabel('Episode #')\n",
    "\n",
    "plt.savefig(\"training_results.png\")\n",
    "plt.show()"
   ]
  },
  {
   "cell_type": "code",
   "execution_count": null,
   "metadata": {},
   "outputs": [],
   "source": []
  },
  {
   "cell_type": "code",
   "execution_count": null,
   "metadata": {},
   "outputs": [],
   "source": []
  }
 ],
 "metadata": {
  "kernelspec": {
   "display_name": "drlnd",
   "language": "python",
   "name": "drlnd"
  },
  "language_info": {
   "codemirror_mode": {
    "name": "ipython",
    "version": 3
   },
   "file_extension": ".py",
   "mimetype": "text/x-python",
   "name": "python",
   "nbconvert_exporter": "python",
   "pygments_lexer": "ipython3",
   "version": "3.6.8"
  }
 },
 "nbformat": 4,
 "nbformat_minor": 2
}
